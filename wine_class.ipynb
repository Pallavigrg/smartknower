{
  "nbformat": 4,
  "nbformat_minor": 0,
  "metadata": {
    "colab": {
      "name": "wine_class.ipynb",
      "provenance": [],
      "authorship_tag": "ABX9TyPZNpM4SW+z0DwFND/lEnQi",
      "include_colab_link": true
    },
    "kernelspec": {
      "name": "python3",
      "display_name": "Python 3"
    }
  },
  "cells": [
    {
      "cell_type": "markdown",
      "metadata": {
        "id": "view-in-github",
        "colab_type": "text"
      },
      "source": [
        "<a href=\"https://colab.research.google.com/github/Pallavigrg/smartknower/blob/master/wine_class.ipynb\" target=\"_parent\"><img src=\"https://colab.research.google.com/assets/colab-badge.svg\" alt=\"Open In Colab\"/></a>"
      ]
    },
    {
      "cell_type": "code",
      "metadata": {
        "id": "yw8w1GfplU1i",
        "colab_type": "code",
        "colab": {}
      },
      "source": [
        ""
      ],
      "execution_count": null,
      "outputs": []
    },
    {
      "cell_type": "code",
      "metadata": {
        "id": "opTJGVxKlhMf",
        "colab_type": "code",
        "colab": {
          "base_uri": "https://localhost:8080/",
          "height": 34
        },
        "outputId": "de84be6f-31d1-435a-e26a-7879a179db0f"
      },
      "source": [
        "from google.colab import drive\n",
        "drive.mount('/content/drive')"
      ],
      "execution_count": 57,
      "outputs": [
        {
          "output_type": "stream",
          "text": [
            "Drive already mounted at /content/drive; to attempt to forcibly remount, call drive.mount(\"/content/drive\", force_remount=True).\n"
          ],
          "name": "stdout"
        }
      ]
    },
    {
      "cell_type": "code",
      "metadata": {
        "id": "2SyHgNX4lzUT",
        "colab_type": "code",
        "colab": {}
      },
      "source": [
        "import pandas as pd\n",
        "import numpy as np\n",
        "import matplotlib.pyplot as plt\n",
        "from sklearn.datasets import load_wine"
      ],
      "execution_count": 58,
      "outputs": []
    },
    {
      "cell_type": "code",
      "metadata": {
        "id": "2ER7eIRTl5Fh",
        "colab_type": "code",
        "colab": {}
      },
      "source": [
        "dataset=load_wine()"
      ],
      "execution_count": 59,
      "outputs": []
    },
    {
      "cell_type": "code",
      "metadata": {
        "id": "bSzsZAn8mEnO",
        "colab_type": "code",
        "colab": {
          "base_uri": "https://localhost:8080/",
          "height": 34
        },
        "outputId": "75789252-a7b7-44f5-92b7-d02774df04a4"
      },
      "source": [
        "dataset.keys()"
      ],
      "execution_count": 60,
      "outputs": [
        {
          "output_type": "execute_result",
          "data": {
            "text/plain": [
              "dict_keys(['data', 'target', 'target_names', 'DESCR', 'feature_names'])"
            ]
          },
          "metadata": {
            "tags": []
          },
          "execution_count": 60
        }
      ]
    },
    {
      "cell_type": "code",
      "metadata": {
        "id": "s68rqsZLmR6p",
        "colab_type": "code",
        "colab": {
          "base_uri": "https://localhost:8080/",
          "height": 120
        },
        "outputId": "e10f97eb-9869-4980-b962-6633716513fc"
      },
      "source": [
        "dataset['DESCR']"
      ],
      "execution_count": 61,
      "outputs": [
        {
          "output_type": "execute_result",
          "data": {
            "application/vnd.google.colaboratory.intrinsic+json": {
              "type": "string"
            },
            "text/plain": [
              "'.. _wine_dataset:\\n\\nWine recognition dataset\\n------------------------\\n\\n**Data Set Characteristics:**\\n\\n    :Number of Instances: 178 (50 in each of three classes)\\n    :Number of Attributes: 13 numeric, predictive attributes and the class\\n    :Attribute Information:\\n \\t\\t- Alcohol\\n \\t\\t- Malic acid\\n \\t\\t- Ash\\n\\t\\t- Alcalinity of ash  \\n \\t\\t- Magnesium\\n\\t\\t- Total phenols\\n \\t\\t- Flavanoids\\n \\t\\t- Nonflavanoid phenols\\n \\t\\t- Proanthocyanins\\n\\t\\t- Color intensity\\n \\t\\t- Hue\\n \\t\\t- OD280/OD315 of diluted wines\\n \\t\\t- Proline\\n\\n    - class:\\n            - class_0\\n            - class_1\\n            - class_2\\n\\t\\t\\n    :Summary Statistics:\\n    \\n    ============================= ==== ===== ======= =====\\n                                   Min   Max   Mean     SD\\n    ============================= ==== ===== ======= =====\\n    Alcohol:                      11.0  14.8    13.0   0.8\\n    Malic Acid:                   0.74  5.80    2.34  1.12\\n    Ash:                          1.36  3.23    2.36  0.27\\n    Alcalinity of Ash:            10.6  30.0    19.5   3.3\\n    Magnesium:                    70.0 162.0    99.7  14.3\\n    Total Phenols:                0.98  3.88    2.29  0.63\\n    Flavanoids:                   0.34  5.08    2.03  1.00\\n    Nonflavanoid Phenols:         0.13  0.66    0.36  0.12\\n    Proanthocyanins:              0.41  3.58    1.59  0.57\\n    Colour Intensity:              1.3  13.0     5.1   2.3\\n    Hue:                          0.48  1.71    0.96  0.23\\n    OD280/OD315 of diluted wines: 1.27  4.00    2.61  0.71\\n    Proline:                       278  1680     746   315\\n    ============================= ==== ===== ======= =====\\n\\n    :Missing Attribute Values: None\\n    :Class Distribution: class_0 (59), class_1 (71), class_2 (48)\\n    :Creator: R.A. Fisher\\n    :Donor: Michael Marshall (MARSHALL%PLU@io.arc.nasa.gov)\\n    :Date: July, 1988\\n\\nThis is a copy of UCI ML Wine recognition datasets.\\nhttps://archive.ics.uci.edu/ml/machine-learning-databases/wine/wine.data\\n\\nThe data is the results of a chemical analysis of wines grown in the same\\nregion in Italy by three different cultivators. There are thirteen different\\nmeasurements taken for different constituents found in the three types of\\nwine.\\n\\nOriginal Owners: \\n\\nForina, M. et al, PARVUS - \\nAn Extendible Package for Data Exploration, Classification and Correlation. \\nInstitute of Pharmaceutical and Food Analysis and Technologies,\\nVia Brigata Salerno, 16147 Genoa, Italy.\\n\\nCitation:\\n\\nLichman, M. (2013). UCI Machine Learning Repository\\n[https://archive.ics.uci.edu/ml]. Irvine, CA: University of California,\\nSchool of Information and Computer Science. \\n\\n.. topic:: References\\n\\n  (1) S. Aeberhard, D. Coomans and O. de Vel, \\n  Comparison of Classifiers in High Dimensional Settings, \\n  Tech. Rep. no. 92-02, (1992), Dept. of Computer Science and Dept. of  \\n  Mathematics and Statistics, James Cook University of North Queensland. \\n  (Also submitted to Technometrics). \\n\\n  The data was used with many others for comparing various \\n  classifiers. The classes are separable, though only RDA \\n  has achieved 100% correct classification. \\n  (RDA : 100%, QDA 99.4%, LDA 98.9%, 1NN 96.1% (z-transformed data)) \\n  (All results using the leave-one-out technique) \\n\\n  (2) S. Aeberhard, D. Coomans and O. de Vel, \\n  \"THE CLASSIFICATION PERFORMANCE OF RDA\" \\n  Tech. Rep. no. 92-01, (1992), Dept. of Computer Science and Dept. of \\n  Mathematics and Statistics, James Cook University of North Queensland. \\n  (Also submitted to Journal of Chemometrics).\\n'"
            ]
          },
          "metadata": {
            "tags": []
          },
          "execution_count": 61
        }
      ]
    },
    {
      "cell_type": "code",
      "metadata": {
        "id": "8iHs3BaLmYUW",
        "colab_type": "code",
        "colab": {}
      },
      "source": [
        "df=pd.DataFrame(dataset.data)"
      ],
      "execution_count": 62,
      "outputs": []
    },
    {
      "cell_type": "code",
      "metadata": {
        "id": "3RFWpVawmmqr",
        "colab_type": "code",
        "colab": {}
      },
      "source": [
        "df.columns=dataset.feature_names"
      ],
      "execution_count": 63,
      "outputs": []
    },
    {
      "cell_type": "code",
      "metadata": {
        "id": "E_0JLZmJmtoM",
        "colab_type": "code",
        "colab": {}
      },
      "source": [
        "df[\"Class\"]=dataset.target"
      ],
      "execution_count": 64,
      "outputs": []
    },
    {
      "cell_type": "code",
      "metadata": {
        "id": "V3L7KRzEmzPd",
        "colab_type": "code",
        "colab": {
          "base_uri": "https://localhost:8080/",
          "height": 422
        },
        "outputId": "d57bb85c-9a6d-4254-fa29-b9d1c056d5d2"
      },
      "source": [
        "df"
      ],
      "execution_count": 65,
      "outputs": [
        {
          "output_type": "execute_result",
          "data": {
            "text/html": [
              "<div>\n",
              "<style scoped>\n",
              "    .dataframe tbody tr th:only-of-type {\n",
              "        vertical-align: middle;\n",
              "    }\n",
              "\n",
              "    .dataframe tbody tr th {\n",
              "        vertical-align: top;\n",
              "    }\n",
              "\n",
              "    .dataframe thead th {\n",
              "        text-align: right;\n",
              "    }\n",
              "</style>\n",
              "<table border=\"1\" class=\"dataframe\">\n",
              "  <thead>\n",
              "    <tr style=\"text-align: right;\">\n",
              "      <th></th>\n",
              "      <th>alcohol</th>\n",
              "      <th>malic_acid</th>\n",
              "      <th>ash</th>\n",
              "      <th>alcalinity_of_ash</th>\n",
              "      <th>magnesium</th>\n",
              "      <th>total_phenols</th>\n",
              "      <th>flavanoids</th>\n",
              "      <th>nonflavanoid_phenols</th>\n",
              "      <th>proanthocyanins</th>\n",
              "      <th>color_intensity</th>\n",
              "      <th>hue</th>\n",
              "      <th>od280/od315_of_diluted_wines</th>\n",
              "      <th>proline</th>\n",
              "      <th>Class</th>\n",
              "    </tr>\n",
              "  </thead>\n",
              "  <tbody>\n",
              "    <tr>\n",
              "      <th>0</th>\n",
              "      <td>14.23</td>\n",
              "      <td>1.71</td>\n",
              "      <td>2.43</td>\n",
              "      <td>15.6</td>\n",
              "      <td>127.0</td>\n",
              "      <td>2.80</td>\n",
              "      <td>3.06</td>\n",
              "      <td>0.28</td>\n",
              "      <td>2.29</td>\n",
              "      <td>5.64</td>\n",
              "      <td>1.04</td>\n",
              "      <td>3.92</td>\n",
              "      <td>1065.0</td>\n",
              "      <td>0</td>\n",
              "    </tr>\n",
              "    <tr>\n",
              "      <th>1</th>\n",
              "      <td>13.20</td>\n",
              "      <td>1.78</td>\n",
              "      <td>2.14</td>\n",
              "      <td>11.2</td>\n",
              "      <td>100.0</td>\n",
              "      <td>2.65</td>\n",
              "      <td>2.76</td>\n",
              "      <td>0.26</td>\n",
              "      <td>1.28</td>\n",
              "      <td>4.38</td>\n",
              "      <td>1.05</td>\n",
              "      <td>3.40</td>\n",
              "      <td>1050.0</td>\n",
              "      <td>0</td>\n",
              "    </tr>\n",
              "    <tr>\n",
              "      <th>2</th>\n",
              "      <td>13.16</td>\n",
              "      <td>2.36</td>\n",
              "      <td>2.67</td>\n",
              "      <td>18.6</td>\n",
              "      <td>101.0</td>\n",
              "      <td>2.80</td>\n",
              "      <td>3.24</td>\n",
              "      <td>0.30</td>\n",
              "      <td>2.81</td>\n",
              "      <td>5.68</td>\n",
              "      <td>1.03</td>\n",
              "      <td>3.17</td>\n",
              "      <td>1185.0</td>\n",
              "      <td>0</td>\n",
              "    </tr>\n",
              "    <tr>\n",
              "      <th>3</th>\n",
              "      <td>14.37</td>\n",
              "      <td>1.95</td>\n",
              "      <td>2.50</td>\n",
              "      <td>16.8</td>\n",
              "      <td>113.0</td>\n",
              "      <td>3.85</td>\n",
              "      <td>3.49</td>\n",
              "      <td>0.24</td>\n",
              "      <td>2.18</td>\n",
              "      <td>7.80</td>\n",
              "      <td>0.86</td>\n",
              "      <td>3.45</td>\n",
              "      <td>1480.0</td>\n",
              "      <td>0</td>\n",
              "    </tr>\n",
              "    <tr>\n",
              "      <th>4</th>\n",
              "      <td>13.24</td>\n",
              "      <td>2.59</td>\n",
              "      <td>2.87</td>\n",
              "      <td>21.0</td>\n",
              "      <td>118.0</td>\n",
              "      <td>2.80</td>\n",
              "      <td>2.69</td>\n",
              "      <td>0.39</td>\n",
              "      <td>1.82</td>\n",
              "      <td>4.32</td>\n",
              "      <td>1.04</td>\n",
              "      <td>2.93</td>\n",
              "      <td>735.0</td>\n",
              "      <td>0</td>\n",
              "    </tr>\n",
              "    <tr>\n",
              "      <th>...</th>\n",
              "      <td>...</td>\n",
              "      <td>...</td>\n",
              "      <td>...</td>\n",
              "      <td>...</td>\n",
              "      <td>...</td>\n",
              "      <td>...</td>\n",
              "      <td>...</td>\n",
              "      <td>...</td>\n",
              "      <td>...</td>\n",
              "      <td>...</td>\n",
              "      <td>...</td>\n",
              "      <td>...</td>\n",
              "      <td>...</td>\n",
              "      <td>...</td>\n",
              "    </tr>\n",
              "    <tr>\n",
              "      <th>173</th>\n",
              "      <td>13.71</td>\n",
              "      <td>5.65</td>\n",
              "      <td>2.45</td>\n",
              "      <td>20.5</td>\n",
              "      <td>95.0</td>\n",
              "      <td>1.68</td>\n",
              "      <td>0.61</td>\n",
              "      <td>0.52</td>\n",
              "      <td>1.06</td>\n",
              "      <td>7.70</td>\n",
              "      <td>0.64</td>\n",
              "      <td>1.74</td>\n",
              "      <td>740.0</td>\n",
              "      <td>2</td>\n",
              "    </tr>\n",
              "    <tr>\n",
              "      <th>174</th>\n",
              "      <td>13.40</td>\n",
              "      <td>3.91</td>\n",
              "      <td>2.48</td>\n",
              "      <td>23.0</td>\n",
              "      <td>102.0</td>\n",
              "      <td>1.80</td>\n",
              "      <td>0.75</td>\n",
              "      <td>0.43</td>\n",
              "      <td>1.41</td>\n",
              "      <td>7.30</td>\n",
              "      <td>0.70</td>\n",
              "      <td>1.56</td>\n",
              "      <td>750.0</td>\n",
              "      <td>2</td>\n",
              "    </tr>\n",
              "    <tr>\n",
              "      <th>175</th>\n",
              "      <td>13.27</td>\n",
              "      <td>4.28</td>\n",
              "      <td>2.26</td>\n",
              "      <td>20.0</td>\n",
              "      <td>120.0</td>\n",
              "      <td>1.59</td>\n",
              "      <td>0.69</td>\n",
              "      <td>0.43</td>\n",
              "      <td>1.35</td>\n",
              "      <td>10.20</td>\n",
              "      <td>0.59</td>\n",
              "      <td>1.56</td>\n",
              "      <td>835.0</td>\n",
              "      <td>2</td>\n",
              "    </tr>\n",
              "    <tr>\n",
              "      <th>176</th>\n",
              "      <td>13.17</td>\n",
              "      <td>2.59</td>\n",
              "      <td>2.37</td>\n",
              "      <td>20.0</td>\n",
              "      <td>120.0</td>\n",
              "      <td>1.65</td>\n",
              "      <td>0.68</td>\n",
              "      <td>0.53</td>\n",
              "      <td>1.46</td>\n",
              "      <td>9.30</td>\n",
              "      <td>0.60</td>\n",
              "      <td>1.62</td>\n",
              "      <td>840.0</td>\n",
              "      <td>2</td>\n",
              "    </tr>\n",
              "    <tr>\n",
              "      <th>177</th>\n",
              "      <td>14.13</td>\n",
              "      <td>4.10</td>\n",
              "      <td>2.74</td>\n",
              "      <td>24.5</td>\n",
              "      <td>96.0</td>\n",
              "      <td>2.05</td>\n",
              "      <td>0.76</td>\n",
              "      <td>0.56</td>\n",
              "      <td>1.35</td>\n",
              "      <td>9.20</td>\n",
              "      <td>0.61</td>\n",
              "      <td>1.60</td>\n",
              "      <td>560.0</td>\n",
              "      <td>2</td>\n",
              "    </tr>\n",
              "  </tbody>\n",
              "</table>\n",
              "<p>178 rows × 14 columns</p>\n",
              "</div>"
            ],
            "text/plain": [
              "     alcohol  malic_acid   ash  ...  od280/od315_of_diluted_wines  proline  Class\n",
              "0      14.23        1.71  2.43  ...                          3.92   1065.0      0\n",
              "1      13.20        1.78  2.14  ...                          3.40   1050.0      0\n",
              "2      13.16        2.36  2.67  ...                          3.17   1185.0      0\n",
              "3      14.37        1.95  2.50  ...                          3.45   1480.0      0\n",
              "4      13.24        2.59  2.87  ...                          2.93    735.0      0\n",
              "..       ...         ...   ...  ...                           ...      ...    ...\n",
              "173    13.71        5.65  2.45  ...                          1.74    740.0      2\n",
              "174    13.40        3.91  2.48  ...                          1.56    750.0      2\n",
              "175    13.27        4.28  2.26  ...                          1.56    835.0      2\n",
              "176    13.17        2.59  2.37  ...                          1.62    840.0      2\n",
              "177    14.13        4.10  2.74  ...                          1.60    560.0      2\n",
              "\n",
              "[178 rows x 14 columns]"
            ]
          },
          "metadata": {
            "tags": []
          },
          "execution_count": 65
        }
      ]
    },
    {
      "cell_type": "code",
      "metadata": {
        "id": "rh-7Boz-xo3T",
        "colab_type": "code",
        "colab": {
          "base_uri": "https://localhost:8080/",
          "height": 370
        },
        "outputId": "d347e6c3-1479-4776-d563-93486d93cc4b"
      },
      "source": [
        "df.info()"
      ],
      "execution_count": 66,
      "outputs": [
        {
          "output_type": "stream",
          "text": [
            "<class 'pandas.core.frame.DataFrame'>\n",
            "RangeIndex: 178 entries, 0 to 177\n",
            "Data columns (total 14 columns):\n",
            " #   Column                        Non-Null Count  Dtype  \n",
            "---  ------                        --------------  -----  \n",
            " 0   alcohol                       178 non-null    float64\n",
            " 1   malic_acid                    178 non-null    float64\n",
            " 2   ash                           178 non-null    float64\n",
            " 3   alcalinity_of_ash             178 non-null    float64\n",
            " 4   magnesium                     178 non-null    float64\n",
            " 5   total_phenols                 178 non-null    float64\n",
            " 6   flavanoids                    178 non-null    float64\n",
            " 7   nonflavanoid_phenols          178 non-null    float64\n",
            " 8   proanthocyanins               178 non-null    float64\n",
            " 9   color_intensity               178 non-null    float64\n",
            " 10  hue                           178 non-null    float64\n",
            " 11  od280/od315_of_diluted_wines  178 non-null    float64\n",
            " 12  proline                       178 non-null    float64\n",
            " 13  Class                         178 non-null    int64  \n",
            "dtypes: float64(13), int64(1)\n",
            "memory usage: 19.6 KB\n"
          ],
          "name": "stdout"
        }
      ]
    },
    {
      "cell_type": "markdown",
      "metadata": {
        "id": "tqW7IJkXzLz6",
        "colab_type": "text"
      },
      "source": [
        "**Data Visulization**"
      ]
    },
    {
      "cell_type": "code",
      "metadata": {
        "id": "Y1D8FBw5m01x",
        "colab_type": "code",
        "colab": {}
      },
      "source": [
        "x=df.iloc[:,0:13].values\n",
        "y=df.iloc[:,13].values"
      ],
      "execution_count": 67,
      "outputs": []
    },
    {
      "cell_type": "code",
      "metadata": {
        "id": "hhD7T9koF_ig",
        "colab_type": "code",
        "colab": {
          "base_uri": "https://localhost:8080/",
          "height": 1000
        },
        "outputId": "6a1e3c22-7d9c-4397-f62d-152a3ec41e93"
      },
      "source": [
        "fig = plt.figure(figsize=(6, 5))\n",
        "sns.barplot(x='Class', y='alcohol', data=df)\n",
        "fig = plt.figure(figsize=(6, 5))\n",
        "sns.barplot(x='Class', y=\"malic_acid\", data=df)\n",
        "fig = plt.figure(figsize=(6, 5))\n",
        "sns.barplot(x='Class', y=\"ash\", data=df)\n",
        "fig = plt.figure(figsize=(6, 5))\n",
        "sns.barplot(x='Class', y=\"alcalinity_of_ash\", data=df)\n",
        "fig = plt.figure(figsize=(6, 5))\n",
        "sns.barplot(x='Class', y=\"magnesium\", data=df)\n",
        "fig = plt.figure(figsize=(6, 5))\n",
        "sns.barplot(x='Class', y=\"flavanoids\", data=df)\n",
        "fig = plt.figure(figsize=(6, 5))\n",
        "sns.barplot(x='Class', y=\"flavanoids\", data=df)\n",
        "fig = plt.figure(figsize=(6, 5))\n",
        "sns.barplot(x='Class', y=\"nonflavanoid_phenols\", data=df)\n",
        "fig = plt.figure(figsize=(6, 5))\n",
        "sns.barplot(x='Class', y=\"proanthocyanins\", data=df)\n",
        "fig = plt.figure(figsize=(6, 5))\n",
        "sns.barplot(x='Class', y=\"color_intensity\", data=df)\n",
        "fig = plt.figure(figsize=(6, 5))\n",
        "sns.barplot(x='Class', y=\"hue\", data=df)\n",
        "fig = plt.figure(figsize=(6, 5))\n",
        "sns.barplot(x='Class', y=\"od280/od315_of_diluted_wines\", data=df)\n",
        "fig = plt.figure(figsize=(6, 5))\n",
        "sns.barplot(x='Class', y=\"proline\", data=df)\n",
        "plt.show()\n"
      ],
      "execution_count": 68,
      "outputs": [
        {
          "output_type": "display_data",
          "data": {
            "image/png": "[encoded data removed]",
            "text/plain": [
              "<Figure size 432x360 with 1 Axes>"
            ]
          },
          "metadata": {
            "tags": [],
            "needs_background": "light"
          }
        },
        {
          "output_type": "display_data",
          "data": {
            "image/png": "[encoded data removed]",
            "text/plain": [
              "<Figure size 432x360 with 1 Axes>"
            ]
          },
          "metadata": {
            "tags": [],
            "needs_background": "light"
          }
        },
        {
          "output_type": "display_data",
          "data": {
            "image/png": "[encoded data removed]",
            "text/plain": [
              "<Figure size 432x360 with 1 Axes>"
            ]
          },
          "metadata": {
            "tags": [],
            "needs_background": "light"
          }
        },
        {
          "output_type": "display_data",
          "data": {
            "image/png": "[encoded data removed]",
            "text/plain": [
              "<Figure size 432x360 with 1 Axes>"
            ]
          },
          "metadata": {
            "tags": [],
            "needs_background": "light"
          }
        },
        {
          "output_type": "display_data",
          "data": {
            "image/png": "[encoded data removed]",
            "text/plain": [
              "<Figure size 432x360 with 1 Axes>"
            ]
          },
          "metadata": {
            "tags": [],
            "needs_background": "light"
          }
        },
        {
          "output_type": "display_data",
          "data": {
            "image/png": "[encoded data removed]",
            "text/plain": [
              "<Figure size 432x360 with 1 Axes>"
            ]
          },
          "metadata": {
            "tags": [],
            "needs_background": "light"
          }
        },
        {
          "output_type": "display_data",
          "data": {
            "image/png": "[encoded data removed]",
            "text/plain": [
              "<Figure size 432x360 with 1 Axes>"
            ]
          },
          "metadata": {
            "tags": [],
            "needs_background": "light"
          }
        },
        {
          "output_type": "display_data",
          "data": {
            "image/png": "[encoded data removed]",
            "text/plain": [
              "<Figure size 432x360 with 1 Axes>"
            ]
          },
          "metadata": {
            "tags": [],
            "needs_background": "light"
          }
        },
        {
          "output_type": "display_data",
          "data": {
            "image/png": "[encoded data removed]",
            "text/plain": [
              "<Figure size 432x360 with 1 Axes>"
            ]
          },
          "metadata": {
            "tags": [],
            "needs_background": "light"
          }
        },
        {
          "output_type": "display_data",
          "data": {
            "image/png": "[encoded data removed]",
            "text/plain": [
              "<Figure size 432x360 with 1 Axes>"
            ]
          },
          "metadata": {
            "tags": [],
            "needs_background": "light"
          }
        },
        {
          "output_type": "display_data",
          "data": {
            "image/png": "[encoded data removed]",
            "text/plain": [
              "<Figure size 432x360 with 1 Axes>"
            ]
          },
          "metadata": {
            "tags": [],
            "needs_background": "light"
          }
        },
        {
          "output_type": "display_data",
          "data": {
            "image/png": "[encoded data removed]",
            "text/plain": [
              "<Figure size 432x360 with 1 Axes>"
            ]
          },
          "metadata": {
            "tags": [],
            "needs_background": "light"
          }
        },
        {
          "output_type": "display_data",
          "data": {
            "image/png": "[encoded data removed]",
            "text/plain": [
              "<Figure size 432x360 with 1 Axes>"
            ]
          },
          "metadata": {
            "tags": [],
            "needs_background": "light"
          }
        }
      ]
    },
    {
      "cell_type": "code",
      "metadata": {
        "id": "2DG0k5agFx67",
        "colab_type": "code",
        "colab": {
          "base_uri": "https://localhost:8080/",
          "height": 223
        },
        "outputId": "5ff78165-50bd-498d-dd0f-97bba6dec0a0"
      },
      "source": [
        "df.plot(kind='density', subplots=True, layout=(5,4), sharex=False)\n",
        "plt.show()"
      ],
      "execution_count": 69,
      "outputs": [
        {
          "output_type": "display_data",
          "data": {
            "image/png": "[encoded data removed]",
            "text/plain": [
              "<Figure size 432x288 with 20 Axes>"
            ]
          },
          "metadata": {
            "tags": [],
            "needs_background": "light"
          }
        }
      ]
    },
    {
      "cell_type": "code",
      "metadata": {
        "id": "WMojWN6xnDKH",
        "colab_type": "code",
        "colab": {
          "base_uri": "https://localhost:8080/",
          "height": 218
        },
        "outputId": "43d25fa7-f834-4c5f-81d4-fdadc069bf9c"
      },
      "source": [
        "print(x)\n",
        "print(y)"
      ],
      "execution_count": 70,
      "outputs": [
        {
          "output_type": "stream",
          "text": [
            "[[1.423e+01 1.710e+00 2.430e+00 ... 1.040e+00 3.920e+00 1.065e+03]\n",
            " [1.320e+01 1.780e+00 2.140e+00 ... 1.050e+00 3.400e+00 1.050e+03]\n",
            " [1.316e+01 2.360e+00 2.670e+00 ... 1.030e+00 3.170e+00 1.185e+03]\n",
            " ...\n",
            " [1.327e+01 4.280e+00 2.260e+00 ... 5.900e-01 1.560e+00 8.350e+02]\n",
            " [1.317e+01 2.590e+00 2.370e+00 ... 6.000e-01 1.620e+00 8.400e+02]\n",
            " [1.413e+01 4.100e+00 2.740e+00 ... 6.100e-01 1.600e+00 5.600e+02]]\n",
            "[0 0 0 0 0 0 0 0 0 0 0 0 0 0 0 0 0 0 0 0 0 0 0 0 0 0 0 0 0 0 0 0 0 0 0 0 0\n",
            " 0 0 0 0 0 0 0 0 0 0 0 0 0 0 0 0 0 0 0 0 0 0 1 1 1 1 1 1 1 1 1 1 1 1 1 1 1\n",
            " 1 1 1 1 1 1 1 1 1 1 1 1 1 1 1 1 1 1 1 1 1 1 1 1 1 1 1 1 1 1 1 1 1 1 1 1 1\n",
            " 1 1 1 1 1 1 1 1 1 1 1 1 1 1 1 1 1 1 1 2 2 2 2 2 2 2 2 2 2 2 2 2 2 2 2 2 2\n",
            " 2 2 2 2 2 2 2 2 2 2 2 2 2 2 2 2 2 2 2 2 2 2 2 2 2 2 2 2 2 2]\n"
          ],
          "name": "stdout"
        }
      ]
    },
    {
      "cell_type": "code",
      "metadata": {
        "id": "91FrL2ugnFah",
        "colab_type": "code",
        "colab": {}
      },
      "source": [
        "from sklearn.preprocessing import StandardScaler\n",
        "from sklearn.model_selection import train_test_split\n",
        "\n",
        "scale=StandardScaler()"
      ],
      "execution_count": 71,
      "outputs": []
    },
    {
      "cell_type": "code",
      "metadata": {
        "id": "EhdllXaonTja",
        "colab_type": "code",
        "colab": {}
      },
      "source": [
        "x_train,x_test,y_train,y_test=train_test_split(x,y,test_size=0.3,random_state=30)\n"
      ],
      "execution_count": 72,
      "outputs": []
    },
    {
      "cell_type": "code",
      "metadata": {
        "id": "lLic5OH1n0X4",
        "colab_type": "code",
        "colab": {
          "base_uri": "https://localhost:8080/",
          "height": 34
        },
        "outputId": "ca351ded-6654-4736-d808-8f6744eb58c3"
      },
      "source": [
        "x_train.shape"
      ],
      "execution_count": 73,
      "outputs": [
        {
          "output_type": "execute_result",
          "data": {
            "text/plain": [
              "(124, 13)"
            ]
          },
          "metadata": {
            "tags": []
          },
          "execution_count": 73
        }
      ]
    },
    {
      "cell_type": "code",
      "metadata": {
        "id": "bK75LbU9n3U8",
        "colab_type": "code",
        "colab": {
          "base_uri": "https://localhost:8080/",
          "height": 34
        },
        "outputId": "7b4cbabe-e35d-4227-d70f-8943199582d8"
      },
      "source": [
        "\n",
        "\n",
        "x_test.shape"
      ],
      "execution_count": 74,
      "outputs": [
        {
          "output_type": "execute_result",
          "data": {
            "text/plain": [
              "(54, 13)"
            ]
          },
          "metadata": {
            "tags": []
          },
          "execution_count": 74
        }
      ]
    },
    {
      "cell_type": "code",
      "metadata": {
        "id": "9rszbKY6n6Dy",
        "colab_type": "code",
        "colab": {
          "base_uri": "https://localhost:8080/",
          "height": 1000
        },
        "outputId": "64a7789a-dad7-41d1-dcf9-bec1916b2429"
      },
      "source": [
        "scale.fit_transform(x_train)\n",
        "scale.transform(x_test)"
      ],
      "execution_count": 75,
      "outputs": [
        {
          "output_type": "execute_result",
          "data": {
            "text/plain": [
              "array([[-0.04505955, -0.62218848,  0.86749884,  3.26855016,  2.65067113,\n",
              "         1.61057733,  0.86618991, -1.25540639,  0.6403885 , -0.76108468,\n",
              "         1.54760574,  1.30186795,  0.7362455 ],\n",
              "       [ 0.57984523, -0.4981509 ,  0.90442635,  0.09171821, -0.30424806,\n",
              "         0.40730719,  0.58951913, -0.6854834 ,  0.11578044, -0.68533197,\n",
              "         0.71541531,  1.75752747,  0.30386316],\n",
              "       [ 0.45731488,  1.97374075,  1.82761427,  1.68013419,  0.79525676,\n",
              "        -0.45217147, -1.04086224, -0.76690097, -0.84600102,  1.53377662,\n",
              "        -1.255562  , -0.94795095, -0.36015257],\n",
              "       [-1.55218282,  0.27265402,  2.04917937,  0.09171821,  0.1767853 ,\n",
              "        -0.81158983,  0.01641537,  1.9198788 , -0.95092263, -0.56056282,\n",
              "         1.19720977, -0.12206806, -0.43118681],\n",
              "       [ 0.17549508,  0.19291558,  0.01816596,  0.09171821,  1.34500917,\n",
              "        -0.96785868, -1.31753302,  1.34995582, -0.23395827,  1.89025993,\n",
              "        -1.56215847, -1.37513175,  0.28842094],\n",
              "       [-1.16008571, -0.92342258, -0.24032666,  1.23537771, -2.09094338,\n",
              "        -0.10838001, -0.41835299,  0.45436256, -0.37385376, -1.47850733,\n",
              "         0.49641784,  0.8889265 , -0.3755948 ],\n",
              "       [ 1.35178642,  1.53074941,  1.38448407,  1.52129259, -0.30424806,\n",
              "        -0.34278328, -1.23848422,  1.59420853, -0.42631456,  1.84569952,\n",
              "        -1.51835898, -1.40361047, -0.57634374],\n",
              "       [-0.54743397, -0.95886189, -0.97887699,  0.09171821,  0.1767853 ,\n",
              "        -1.23351572, -1.41634401,  1.34995582, -0.33887989,  1.1327329 ,\n",
              "        -1.64975746, -1.47480727, -0.32926812],\n",
              "       [-0.11857776,  1.26495461,  1.05213642, -0.35303826,  0.10806625,\n",
              "         0.21978457,  0.39189714, -0.92973611,  0.67536237, -0.24863992,\n",
              "         0.32121985,  1.33034667,  0.07222977],\n",
              "       [ 0.31027846, -0.64876796,  1.75375924, -1.33785616,  0.65781866,\n",
              "         0.51669539,  0.65868682, -0.19697799, -0.40882763, -0.20407951,\n",
              "         0.58401683,  0.27663402,  0.41195875],\n",
              "       [-0.8047477 , -1.26895583, -3.71151322, -2.89450382, -0.85400046,\n",
              "        -0.45217147, -1.42622511, -0.6854834 , -2.05259956, -1.38493047,\n",
              "         0.40881884, -1.09034455, -0.69988155],\n",
              "       [-1.16008571, -0.87026362,  0.49822367,  0.8859262 , -1.12887667,\n",
              "         0.45418785,  0.27332395,  0.53578013, -0.96840956, -0.96160654,\n",
              "        -0.11677511,  0.86044778, -1.11682166],\n",
              "       [ 0.02845866, -0.56902952, -1.20044209, -2.32267407, -0.57912426,\n",
              "         0.70421801,  1.24167167, -1.58107666,  2.30164737,  0.95449124,\n",
              "         0.71541531,  0.4617457 ,  1.24583898],\n",
              "       [-1.45415855, -1.31325496,  0.7936438 , -0.54364818, -0.44168616,\n",
              "        -0.10838001,  0.19427516, -1.17398882,  1.32237898, -0.89476592,\n",
              "        -0.72996805,  0.70381482, -0.69988155],\n",
              "       [-1.20909785,  1.70794595,  0.05509347,  0.7270846 , -1.40375287,\n",
              "        -0.26464886, -0.2602554 ,  0.45436256, -0.42631456, -1.09528778,\n",
              "        -0.72996805, -0.02239254, -0.51457483],\n",
              "       [-0.31462631,  0.01571905, -0.31418169, -0.06712338, -0.99143857,\n",
              "        -1.37415768, -1.4855117 ,  0.94286798, -1.66788698,  2.15762196,\n",
              "        -1.69355696, -1.36089239, -0.85430382],\n",
              "       [ 0.44506184, -0.53359021,  0.94135387, -1.14724625, -0.51040521,\n",
              "         0.90736751,  0.9155954 , -0.19697799, -0.25144521, -0.11495868,\n",
              "        -0.1605746 ,  0.90316586,  1.38481901],\n",
              "       [-0.40039756,  1.04345895, -0.01876156,  0.568243  ,  0.38294245,\n",
              "        -0.88972425, -0.80371586, -1.58107666, -1.31814827, -0.02583785,\n",
              "        -0.77376755, -1.84503064, -0.45280593],\n",
              "       [ 0.21225418, -0.52473038, -0.83116693, -2.7038939 , -0.02937185,\n",
              "         0.59482981,  0.73773562, -0.84831854, -0.54872311, -0.30211242,\n",
              "         0.40881884,  1.15947435,  0.93699445],\n",
              "       [-0.90277198, -0.85254397, -1.42200719, -1.17901457, -1.06015762,\n",
              "         0.43856096,  0.48082704, -0.60406583,  0.30813673, -0.96160654,\n",
              "         1.19720977,  0.21967658, -0.98401852],\n",
              "       [ 0.65336344, -0.58674917, -0.20339914, -1.11547793,  1.13885201,\n",
              "         1.37617405,  1.26143387, -0.19697799,  1.30489205,  0.47769482,\n",
              "        -0.02917612,  1.13099563,  0.1494409 ],\n",
              "       [-0.74348253, -0.67534744, -0.64652934,  0.8859262 ,  0.52038056,\n",
              "        -0.42091771,  0.07570197, -0.19697799,  0.02834576, -1.33591401,\n",
              "         0.45261834,  0.5329425 , -1.24035948],\n",
              "       [ 0.87391806, -0.62218848, -0.42496424, -1.05194129,  1.20757106,\n",
              "         0.51669539,  0.876071  , -1.25540639,  0.04583269,  0.35292566,\n",
              "        -0.1605746 ,  0.87468714,  0.9678789 ],\n",
              "       [-0.8047477 , -1.10061912, -0.75731189, -0.22596498, -0.92271951,\n",
              "         1.92311502,  1.07369299, -1.41824152,  0.48300608, -0.27092013,\n",
              "         1.15341027,  0.40478826, -1.00872608],\n",
              "       [-1.16008571, -0.48043125, -0.16647163, -0.38480658, -1.33503382,\n",
              "        -1.0459931 , -0.50728288,  1.26853825,  0.08080656, -1.1844086 ,\n",
              "         0.54021733, -0.44957335, -0.82341936],\n",
              "       [ 0.38379667, -1.26895583, -0.01876156, -0.86133137,  0.65781866,\n",
              "         0.40730719, -0.70490487,  1.51279096, -2.05259956, -0.84129342,\n",
              "         0.27742036, -0.93371159,  0.01046086],\n",
              "       [ 0.55533916, -0.62218848,  1.0152089 ,  0.8859262 , -0.78528141,\n",
              "         0.51669539, -0.90252685,  1.26853825,  1.21745737,  2.98199006,\n",
              "        -1.69355696, -1.14730199, -0.39103702],\n",
              "       [-1.72372531, -0.33867402, -0.31418169, -0.54364818, -0.16680995,\n",
              "         1.17302455,  0.24368066, -1.58107666, -0.42631456, -0.80564509,\n",
              "         0.8906133 ,  0.5329425 , -1.24035948],\n",
              "       [-0.37589149, -0.4981509 , -0.60960183, -0.28950162, -0.99143857,\n",
              "        -0.10838001,  0.51047033, -0.84831854,  0.30813673, -0.5160024 ,\n",
              "         0.8906133 ,  0.78925098, -0.10072317],\n",
              "       [-1.06206143, -0.67534744, -0.20339914,  0.98123116, -0.71656236,\n",
              "        -0.76470917, -0.319542  ,  0.53578013, -0.05908892, -1.1621284 ,\n",
              "         1.63520473, -0.46381271, -0.77709268],\n",
              "       [ 1.47431677, -0.58674917,  0.23973106, -1.30608784,  1.82604252,\n",
              "         0.82923308,  1.03416859, -0.6854834 ,  1.21745737,  0.25934879,\n",
              "         0.36501935,  1.89992107,  0.98332113],\n",
              "       [ 0.3592906 ,  0.76880432,  0.05509347,  0.568243  , -0.57912426,\n",
              "        -0.5303059 , -1.23848422,  0.69861527, -0.60118392,  1.49812829,\n",
              "        -1.78115595, -1.37513175, -0.29838366],\n",
              "       [ 0.17549508,  2.49647053, -0.16647163,  0.7270846 , -0.51040521,\n",
              "        -0.82721671, -1.36693851,  2.00129637, -0.07657585,  1.26641414,\n",
              "        -1.56215847, -1.57448279, -0.06675027],\n",
              "       [ 0.8861711 , -0.56902952,  0.16587602, -1.17901457, -0.78528141,\n",
              "         0.51669539,  0.73773562, -0.60406583,  0.37808447,  0.24152463,\n",
              "         0.8468138 ,  0.44750634,  1.77087467],\n",
              "       [ 1.64585925, -0.37411333,  0.49822367, -0.92486801,  0.86397581,\n",
              "         2.47005599,  1.45905586, -1.01115368,  1.02510108,  1.22185373,\n",
              "        -0.42337158,  1.23067115,  2.26502592],\n",
              "       [-1.69921924, -0.27665523,  0.35051361,  0.60001132, -1.12887667,\n",
              "        -0.49905213, -0.319542  ,  0.94286798, -0.42631456, -1.00616695,\n",
              "         0.18982136,  0.23391594, -0.20573031],\n",
              "       [-1.45415855,  0.45871038, -0.49881928, -0.54364818,  0.79525676,\n",
              "        -0.85847048, -0.68514267,  0.53578013, -1.12579198, -1.07300757,\n",
              "         0.01462338, -0.09358934, -0.76165046],\n",
              "       [-0.95178412,  2.08005867,  0.64593374,  0.40940141, -0.78528141,\n",
              "        -1.38978457, -1.5250361 ,  1.34995582, -1.38809601, -0.53828261,\n",
              "        -0.90516603, -1.87350936, -0.0821925 ],\n",
              "       [-1.73597835, -0.90570293,  1.236774  ,  0.09171821, -0.44168616,\n",
              "         0.73547177,  0.8958332 , -0.60406583,  1.56719608, -1.07300757,\n",
              "         0.01462338,  0.96012331, -0.20573031],\n",
              "       [ 1.26601517, -0.65762778, -0.31418169, -1.17901457,  1.75732347,\n",
              "         1.14177078,  1.14286068, -1.01115368,  0.8852056 ,  0.26380484,\n",
              "         0.58401683,  1.60089451,  0.10311422],\n",
              "       [-0.8047477 , -1.06517981, -1.64357229, -0.03535507, -1.54119097,\n",
              "        -0.24902197, -0.01322792, -0.76690097, -0.96840956, -0.16843118,\n",
              "         0.71541531,  1.27338923, -0.730766  ],\n",
              "       [ 1.43755766, -0.54245004,  0.31358609, -1.43316112,  0.79525676,\n",
              "         1.56369667,  1.36024486, -0.19697799,  0.65787544,  0.75396938,\n",
              "         0.40881884,  0.37630954,  2.17237256],\n",
              "       [ 2.20949885, -0.64876796, -0.72038438, -1.81438096, -0.23552901,\n",
              "         0.82923308,  0.9551198 , -0.60406583,  0.67536237,  0.06328297,\n",
              "         0.54021733,  0.37630954,  0.92155222],\n",
              "       [ 0.24901329,  0.82196328, -0.31418169, -0.38480658, -0.16680995,\n",
              "        -0.7334554 , -1.16931653,  2.00129637,  0.48300608,  2.43389697,\n",
              "        -1.73735646, -1.53176471, -0.22117253],\n",
              "       [-1.16008571, -0.25893558, -2.45597766, -0.70248977, -0.23552901,\n",
              "        -0.06149935,  0.15475076, -0.84831854, -0.33887989, -0.78336488,\n",
              "         1.37240775,  0.5329425 , -0.11307695],\n",
              "       [ 1.04546055, -0.42727229,  0.83057132, -1.49669776,  0.0393472 ,\n",
              "         1.5324429 ,  1.52822355, -1.58107666,  0.18572818,  0.16577193,\n",
              "        -0.33577259,  1.38730411,  1.07597448],\n",
              "       [ 0.3225315 , -0.35639367,  1.16291897, -0.92486801,  0.10806625,\n",
              "         1.14177078,  1.20214728, -0.4412307 ,  0.11578044,  0.41976628,\n",
              "         0.49641784,  0.36207018,  1.61645241],\n",
              "       [ 0.16324204, -0.01086043,  1.12599145, -0.35303826,  0.0393472 ,\n",
              "         0.82923308,  1.21202838, -0.52264827,  2.12677801,  0.27717296,\n",
              "         0.32121985,  0.83196906,  1.35393456],\n",
              "       [-0.90277198,  0.70678553, -0.57267431, -0.54364818, -0.85400046,\n",
              "         0.90736751,  0.9650009 ,  0.69861527,  2.12677801, -1.22896902,\n",
              "         2.02940019,  0.34783082, -1.05196431],\n",
              "       [ 0.40830274,  0.1663361 , -0.05568908,  0.09171821, -0.78528141,\n",
              "        -1.3585308 , -1.4953928 ,  0.04727472, -1.66788698,  0.24152463,\n",
              "        -1.12416351, -0.16478614,  0.10311422],\n",
              "       [-0.74348253,  1.8231237 ,  1.34755655,  2.15665898,  0.10806625,\n",
              "        -0.10838001,  0.11522637,  0.53578013,  0.20321511, -1.32700193,\n",
              "        -0.1605746 ,  0.76077226, -1.17859057],\n",
              "       [ 0.05296473, -0.77280553, -0.97887699, -1.33785616, -0.16680995,\n",
              "         0.20415769,  0.61916243, -0.6854834 , -0.39134069, -0.60512323,\n",
              "         0.97821229,  0.14847978,  0.84434109],\n",
              "       [ 0.99644841,  1.54846907,  0.05509347, -0.06712338, -0.78528141,\n",
              "        -0.7334554 , -1.16931653,  0.94286798, -0.05908892,  1.76103473,\n",
              "        -1.69355696, -1.34665303, -0.82341936],\n",
              "       [ 0.56759219, -0.6310483 , -0.46189176,  1.36245099, -0.92271951,\n",
              "        -0.60844032, -0.17132551, -0.76690097, -0.9858965 , -0.58729906,\n",
              "         0.10222237,  0.27663402, -0.84812692]])"
            ]
          },
          "metadata": {
            "tags": []
          },
          "execution_count": 75
        }
      ]
    },
    {
      "cell_type": "code",
      "metadata": {
        "id": "xg_qheKgoGdQ",
        "colab_type": "code",
        "colab": {}
      },
      "source": [
        "from sklearn.ensemble import RandomForestClassifier\n",
        "model=RandomForestClassifier()"
      ],
      "execution_count": 76,
      "outputs": []
    },
    {
      "cell_type": "code",
      "metadata": {
        "id": "fQS5-wCqocHP",
        "colab_type": "code",
        "colab": {
          "base_uri": "https://localhost:8080/",
          "height": 151
        },
        "outputId": "11b9eacc-f736-4519-acd3-c59ec018641c"
      },
      "source": [
        "model.fit(x_train,y_train)"
      ],
      "execution_count": 77,
      "outputs": [
        {
          "output_type": "execute_result",
          "data": {
            "text/plain": [
              "RandomForestClassifier(bootstrap=True, ccp_alpha=0.0, class_weight=None,\n",
              "                       criterion='gini', max_depth=None, max_features='auto',\n",
              "                       max_leaf_nodes=None, max_samples=None,\n",
              "                       min_impurity_decrease=0.0, min_impurity_split=None,\n",
              "                       min_samples_leaf=1, min_samples_split=2,\n",
              "                       min_weight_fraction_leaf=0.0, n_estimators=100,\n",
              "                       n_jobs=None, oob_score=False, random_state=None,\n",
              "                       verbose=0, warm_start=False)"
            ]
          },
          "metadata": {
            "tags": []
          },
          "execution_count": 77
        }
      ]
    },
    {
      "cell_type": "code",
      "metadata": {
        "id": "Bti0r7pUolN1",
        "colab_type": "code",
        "colab": {}
      },
      "source": [
        "y_pred=model.predict(x_test)"
      ],
      "execution_count": 78,
      "outputs": []
    },
    {
      "cell_type": "code",
      "metadata": {
        "id": "21cqGe-xotr5",
        "colab_type": "code",
        "colab": {
          "base_uri": "https://localhost:8080/",
          "height": 34
        },
        "outputId": "8f8e7c1e-c94c-4bb4-9458-f1e1c8f19d48"
      },
      "source": [
        "from sklearn.metrics import accuracy_score\n",
        "accuracy_score(y_test,y_pred)*100"
      ],
      "execution_count": 79,
      "outputs": [
        {
          "output_type": "execute_result",
          "data": {
            "text/plain": [
              "98.14814814814815"
            ]
          },
          "metadata": {
            "tags": []
          },
          "execution_count": 79
        }
      ]
    },
    {
      "cell_type": "code",
      "metadata": {
        "id": "xmwKpJZ-oytc",
        "colab_type": "code",
        "colab": {
          "base_uri": "https://localhost:8080/",
          "height": 67
        },
        "outputId": "6e8eee3f-5b8e-47a3-8a9b-ad76c780a48f"
      },
      "source": [
        "from sklearn.metrics import confusion_matrix\n",
        "confusion_matrix(y_test,y_pred)"
      ],
      "execution_count": 80,
      "outputs": [
        {
          "output_type": "execute_result",
          "data": {
            "text/plain": [
              "array([[18,  0,  0],\n",
              "       [ 1, 22,  0],\n",
              "       [ 0,  0, 13]])"
            ]
          },
          "metadata": {
            "tags": []
          },
          "execution_count": 80
        }
      ]
    },
    {
      "cell_type": "code",
      "metadata": {
        "id": "ec4yrGcNpFnh",
        "colab_type": "code",
        "colab": {
          "base_uri": "https://localhost:8080/",
          "height": 185
        },
        "outputId": "63f02529-0bd8-4f32-86d3-18ca5b3d8984"
      },
      "source": [
        "from sklearn.metrics import classification_report\n",
        "print(classification_report(y_test,y_pred))"
      ],
      "execution_count": 81,
      "outputs": [
        {
          "output_type": "stream",
          "text": [
            "              precision    recall  f1-score   support\n",
            "\n",
            "           0       0.95      1.00      0.97        18\n",
            "           1       1.00      0.96      0.98        23\n",
            "           2       1.00      1.00      1.00        13\n",
            "\n",
            "    accuracy                           0.98        54\n",
            "   macro avg       0.98      0.99      0.98        54\n",
            "weighted avg       0.98      0.98      0.98        54\n",
            "\n"
          ],
          "name": "stdout"
        }
      ]
    },
    {
      "cell_type": "code",
      "metadata": {
        "id": "F3KbzFzbpKdp",
        "colab_type": "code",
        "colab": {}
      },
      "source": [
        ""
      ],
      "execution_count": null,
      "outputs": []
    }
  ]
}